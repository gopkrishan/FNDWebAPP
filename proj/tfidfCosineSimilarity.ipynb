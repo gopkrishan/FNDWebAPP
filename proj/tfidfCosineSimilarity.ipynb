{
 "cells": [
  {
   "cell_type": "code",
   "execution_count": 54,
   "metadata": {},
   "outputs": [],
   "source": [
    "from sklearn.feature_extraction.text import CountVectorizer\n",
    "from sklearn.metrics.pairwise import cosine_similarity\n",
    "from sklearn.feature_extraction.text import TfidfVectorizer"
   ]
  },
  {
   "cell_type": "code",
   "execution_count": 55,
   "metadata": {},
   "outputs": [],
   "source": [
    "doc1 = \"SBI internet banking\"\n",
    "doc2 = \"SBI customers can lose access to internet banking facility if mobile number is not registered; here's how to do it\""
   ]
  },
  {
   "cell_type": "code",
   "execution_count": 56,
   "metadata": {},
   "outputs": [],
   "source": [
    "from sklearn.feature_extraction.text import TfidfVectorizer\n",
    "tfidf_vectorizer = TfidfVectorizer()\n",
    "tfidf_matrix_train = tfidf_vectorizer.fit_transform([doc1,doc2])"
   ]
  },
  {
   "cell_type": "code",
   "execution_count": 57,
   "metadata": {},
   "outputs": [
    {
     "name": "stdout",
     "output_type": "stream",
     "text": [
      "[[0.27206038]]\n"
     ]
    }
   ],
   "source": [
    "print(cosine_similarity(tfidf_matrix_train[0],tfidf_matrix_train[1]))"
   ]
  },
  {
   "cell_type": "code",
   "execution_count": 58,
   "metadata": {},
   "outputs": [
    {
     "data": {
      "text/plain": [
       "<1x19 sparse matrix of type '<class 'numpy.float64'>'\n",
       "\twith 3 stored elements in Compressed Sparse Row format>"
      ]
     },
     "execution_count": 58,
     "metadata": {},
     "output_type": "execute_result"
    }
   ],
   "source": [
    "tfidf_matrix_train[0]"
   ]
  },
  {
   "cell_type": "code",
   "execution_count": 59,
   "metadata": {},
   "outputs": [],
   "source": [
    "from nltk.tokenize import RegexpTokenizer\n",
    "tokenizer = RegexpTokenizer(r'\\w+')\n",
    "d1=tokenizer.tokenize(doc1)\n",
    "d2=tokenizer.tokenize(doc2)"
   ]
  },
  {
   "cell_type": "code",
   "execution_count": 60,
   "metadata": {},
   "outputs": [
    {
     "name": "stdout",
     "output_type": "stream",
     "text": [
      "['SBI', 'internet', 'banking']\n",
      "xsfsd ['SBI', 'customers', 'lose', 'access', 'internet', 'banking', 'facility', 'mobile', 'number', 'registered']\n",
      " SBI internet banking\n",
      " SBI customers lose access internet banking facility mobile number registered\n",
      "[[0.42223389]]\n"
     ]
    }
   ],
   "source": [
    "from nltk.corpus import stopwords\n",
    "from nltk.tokenize import word_tokenize\n",
    "stop_words = set(stopwords.words('english'))\n",
    "word1Tokens = word_tokenize(doc1)\n",
    "word2Tokens = word_tokenize(doc2)\n",
    "keywords1 = [w for w in d1 if w not in stop_words]\n",
    "keywords2 = [w for w in d2 if w not in stop_words]\n",
    "print(keywords1)\n",
    "print('xsfsd',keywords2)\n",
    "str1 = ''\n",
    "for i in keywords1:\n",
    "    str1 = str1 +' '+i\n",
    "print(str1)\n",
    "str2 = ''\n",
    "for i in keywords2:\n",
    "    str2 = str2 +' '+i\n",
    "print(str2)\n",
    "tfidf_matrix_train = tfidf_vectorizer.fit_transform([str1,str2])\n",
    "print(cosine_similarity(tfidf_matrix_train[0],tfidf_matrix_train[1]))"
   ]
  },
  {
   "cell_type": "raw",
   "metadata": {},
   "source": [
    "from nltk.stem import PorterStemmer\n",
    "ps = PorterStemmer()\n",
    "stem1 = []\n",
    "for s in keywords1:\n",
    "    stem1 = stem1 + [ps.stem(s)]\n",
    "#stem1 = [s for s in keywords1 ps.stem(s)]\n",
    "str1 = ''\n",
    "for i in stem1:\n",
    "    str1 = str1 +' '+i\n",
    "print(str1)\n",
    "stem2 = []\n",
    "for s in keywords2:\n",
    "    stem2 = stem2 + [ps.stem(s)]\n",
    "str2 = ''\n",
    "for i in stem2:\n",
    "    str2 = str2 +' '+i\n",
    "print(str2)\n",
    "tfidf_matrix_train = tfidf_vectorizer.fit_transform([str1,str2])\n",
    "print(cosine_similarity(tfidf_matrix_train[0],tfidf_matrix_train[1]))"
   ]
  }
 ],
 "metadata": {
  "kernelspec": {
   "display_name": "Python 3",
   "language": "python",
   "name": "python3"
  },
  "language_info": {
   "codemirror_mode": {
    "name": "ipython",
    "version": 3
   },
   "file_extension": ".py",
   "mimetype": "text/x-python",
   "name": "python",
   "nbconvert_exporter": "python",
   "pygments_lexer": "ipython3",
   "version": "3.5.2"
  }
 },
 "nbformat": 4,
 "nbformat_minor": 2
}
